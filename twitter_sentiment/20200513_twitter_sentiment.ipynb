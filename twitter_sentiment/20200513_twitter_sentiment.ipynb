{
 "cells": [
  {
   "cell_type": "markdown",
   "metadata": {},
   "source": [
    "A first attempt at using Twitterscraper, vaderSentiment, and langdetect packages, as described in a [YouTube video by Ken Jee](https://www.youtube.com/watch?v=_CS4u9cORwA)."
   ]
  },
  {
   "cell_type": "code",
   "execution_count": 1,
   "metadata": {},
   "outputs": [
    {
     "name": "stderr",
     "output_type": "stream",
     "text": [
      "INFO: {'User-Agent': 'Mozilla/5.0 (Windows; U; Windows NT 6.1; x64; fr; rv:1.9.2.13) Gecko/20101203 Firebird/3.6.13'}\n"
     ]
    }
   ],
   "source": [
    "import pandas as pd\n",
    "import datetime as dt\n",
    "from twitterscraper import query_tweets\n",
    "from vaderSentiment.vaderSentiment import SentimentIntensityAnalyzer\n",
    "from langdetect import detect\n",
    "import matplotlib.pyplot as plt\n",
    "import seaborn as sns"
   ]
  },
  {
   "cell_type": "code",
   "execution_count": 3,
   "metadata": {},
   "outputs": [],
   "source": [
    "def detector(x):\n",
    "    try:\n",
    "        return detect(x)\n",
    "    except:\n",
    "        None"
   ]
  },
  {
   "cell_type": "code",
   "execution_count": 4,
   "metadata": {},
   "outputs": [],
   "source": [
    "#analyzer object initialize\n",
    "analyzer = SentimentIntensityAnalyzer()"
   ]
  },
  {
   "cell_type": "code",
   "execution_count": 5,
   "metadata": {},
   "outputs": [],
   "source": [
    "#set start and end dates for tweet scrapes\n",
    "begin_date = dt.date(2019,3,3)\n",
    "end_date = dt.date(2019,3,7)"
   ]
  },
  {
   "cell_type": "code",
   "execution_count": 6,
   "metadata": {},
   "outputs": [],
   "source": [
    "begin_date_premier = dt.date(2019,3,7)\n",
    "end_date_premier = dt.date(2019,3,9)"
   ]
  },
  {
   "cell_type": "code",
   "execution_count": 7,
   "metadata": {},
   "outputs": [
    {
     "name": "stderr",
     "output_type": "stream",
     "text": [
      "INFO: queries: ['#CaptainMarvel since:2019-03-03 until:2019-03-04', '#CaptainMarvel since:2019-03-04 until:2019-03-05', '#CaptainMarvel since:2019-03-05 until:2019-03-06', '#CaptainMarvel since:2019-03-06 until:2019-03-07']\n",
      "INFO: Got 2501 tweets (2501 new).\n",
      "INFO: Got 5007 tweets (2506 new).\n",
      "INFO: Got 7513 tweets (2506 new).\n",
      "INFO: Got 10027 tweets (2514 new).\n",
      "INFO: queries: ['#CaptainMarvel since:2019-03-07 until:2019-03-08', '#CaptainMarvel since:2019-03-08 until:2019-03-09']\n",
      "INFO: Got 1195 tweets (1195 new).\n",
      "INFO: Got 2412 tweets (1217 new).\n"
     ]
    }
   ],
   "source": [
    "tweets_before = query_tweets(\"#CaptainMarvel\", begindate = begin_date, enddate= end_date, limit=10000)\n",
    "tweets_after = query_tweets(\"#CaptainMarvel\", begindate = begin_date_premier, enddate = end_date_premier)"
   ]
  },
  {
   "cell_type": "code",
   "execution_count": 8,
   "metadata": {},
   "outputs": [],
   "source": [
    "#convert these to a DataFrame\n",
    "df_before = pd.DataFrame(t.__dict__ for t in tweets_before)\n",
    "df_after = pd.DataFrame(t.__dict__ for t in tweets_after)"
   ]
  },
  {
   "cell_type": "code",
   "execution_count": 10,
   "metadata": {},
   "outputs": [
    {
     "data": {
      "text/plain": [
       "(10027, 21)"
      ]
     },
     "execution_count": 10,
     "metadata": {},
     "output_type": "execute_result"
    }
   ],
   "source": [
    "df_before.shape"
   ]
  },
  {
   "cell_type": "code",
   "execution_count": 11,
   "metadata": {},
   "outputs": [
    {
     "data": {
      "text/plain": [
       "(2412, 21)"
      ]
     },
     "execution_count": 11,
     "metadata": {},
     "output_type": "execute_result"
    }
   ],
   "source": [
    "df_after.shape"
   ]
  },
  {
   "cell_type": "code",
   "execution_count": 12,
   "metadata": {},
   "outputs": [],
   "source": [
    "#filter for English\n",
    "df_before['lang'] = df_before['text'].apply(lambda x:detector(x))\n",
    "df_before = df_before[df_before['lang'] == 'en']\n",
    "df_after['lang'] = df_after['text'].apply(lambda x:detector(x))\n",
    "df_after = df_after[df_after['lang'] == 'en']"
   ]
  },
  {
   "cell_type": "code",
   "execution_count": 13,
   "metadata": {},
   "outputs": [
    {
     "data": {
      "text/plain": [
       "(7678, 22)"
      ]
     },
     "execution_count": 13,
     "metadata": {},
     "output_type": "execute_result"
    }
   ],
   "source": [
    "df_before.shape"
   ]
  },
  {
   "cell_type": "code",
   "execution_count": 14,
   "metadata": {},
   "outputs": [
    {
     "data": {
      "text/plain": [
       "(1978, 22)"
      ]
     },
     "execution_count": 14,
     "metadata": {},
     "output_type": "execute_result"
    }
   ],
   "source": [
    "df_after.shape"
   ]
  },
  {
   "cell_type": "markdown",
   "metadata": {},
   "source": [
    "## Now begin the sentiment analysis"
   ]
  },
  {
   "cell_type": "code",
   "execution_count": 15,
   "metadata": {},
   "outputs": [],
   "source": [
    "sentiment_before = df_before['text'].apply(lambda x: analyzer.polarity_scores(x))\n",
    "sentiment_after = df_after['text'].apply(lambda x: analyzer.polarity_scores(x))"
   ]
  },
  {
   "cell_type": "code",
   "execution_count": 16,
   "metadata": {},
   "outputs": [],
   "source": [
    "#sentiments to dataframe\n",
    "df_before = pd.concat([df_before, sentiment_before.apply(pd.Series)], 1)\n",
    "df_after = pd.concat([df_after, sentiment_before.apply(pd.Series)], 1)"
   ]
  },
  {
   "cell_type": "code",
   "execution_count": 17,
   "metadata": {},
   "outputs": [],
   "source": [
    "#remove duplicates...are they bots or sponsored?\n",
    "df_before.drop_duplicates(subset = 'text', inplace = True)\n",
    "df_after.drop_duplicates(subset = 'text', inplace = True)"
   ]
  },
  {
   "cell_type": "code",
   "execution_count": 19,
   "metadata": {},
   "outputs": [
    {
     "data": {
      "text/html": [
       "<div>\n",
       "<style scoped>\n",
       "    .dataframe tbody tr th:only-of-type {\n",
       "        vertical-align: middle;\n",
       "    }\n",
       "\n",
       "    .dataframe tbody tr th {\n",
       "        vertical-align: top;\n",
       "    }\n",
       "\n",
       "    .dataframe thead th {\n",
       "        text-align: right;\n",
       "    }\n",
       "</style>\n",
       "<table border=\"1\" class=\"dataframe\">\n",
       "  <thead>\n",
       "    <tr style=\"text-align: right;\">\n",
       "      <th></th>\n",
       "      <th>screen_name</th>\n",
       "      <th>username</th>\n",
       "      <th>user_id</th>\n",
       "      <th>tweet_id</th>\n",
       "      <th>tweet_url</th>\n",
       "      <th>timestamp</th>\n",
       "      <th>timestamp_epochs</th>\n",
       "      <th>text</th>\n",
       "      <th>text_html</th>\n",
       "      <th>links</th>\n",
       "      <th>...</th>\n",
       "      <th>replies</th>\n",
       "      <th>is_replied</th>\n",
       "      <th>is_reply_to</th>\n",
       "      <th>parent_tweet_id</th>\n",
       "      <th>reply_to_users</th>\n",
       "      <th>lang</th>\n",
       "      <th>neg</th>\n",
       "      <th>neu</th>\n",
       "      <th>pos</th>\n",
       "      <th>compound</th>\n",
       "    </tr>\n",
       "  </thead>\n",
       "  <tbody>\n",
       "    <tr>\n",
       "      <th>0</th>\n",
       "      <td>spacecom</td>\n",
       "      <td>Parabolicarc.com</td>\n",
       "      <td>18928764</td>\n",
       "      <td>1103082716956831744</td>\n",
       "      <td>/spacecom/status/1103082716956831744</td>\n",
       "      <td>2019-03-05 23:59:48</td>\n",
       "      <td>1551830388</td>\n",
       "      <td>Being so awesome, why does #CaptainMarvel neve...</td>\n",
       "      <td>&lt;p class=\"TweetTextSize js-tweet-text tweet-te...</td>\n",
       "      <td>[]</td>\n",
       "      <td>...</td>\n",
       "      <td>2</td>\n",
       "      <td>True</td>\n",
       "      <td>False</td>\n",
       "      <td></td>\n",
       "      <td>[]</td>\n",
       "      <td>en</td>\n",
       "      <td>0.235</td>\n",
       "      <td>0.497</td>\n",
       "      <td>0.268</td>\n",
       "      <td>0.4455</td>\n",
       "    </tr>\n",
       "    <tr>\n",
       "      <th>1</th>\n",
       "      <td>mrxyvvs</td>\n",
       "      <td>💋</td>\n",
       "      <td>1482535506</td>\n",
       "      <td>1103082705468633088</td>\n",
       "      <td>/mrxyvvs/status/1103082705468633088</td>\n",
       "      <td>2019-03-05 23:59:45</td>\n",
       "      <td>1551830385</td>\n",
       "      <td>#CaptainMarvel showing na ba?????</td>\n",
       "      <td>&lt;p class=\"TweetTextSize js-tweet-text tweet-te...</td>\n",
       "      <td>[]</td>\n",
       "      <td>...</td>\n",
       "      <td>0</td>\n",
       "      <td>False</td>\n",
       "      <td>False</td>\n",
       "      <td></td>\n",
       "      <td>[]</td>\n",
       "      <td>en</td>\n",
       "      <td>0.000</td>\n",
       "      <td>1.000</td>\n",
       "      <td>0.000</td>\n",
       "      <td>0.0000</td>\n",
       "    </tr>\n",
       "    <tr>\n",
       "      <th>2</th>\n",
       "      <td>Seth_Everett</td>\n",
       "      <td>Seth Everett</td>\n",
       "      <td>46727908</td>\n",
       "      <td>1103082651769020416</td>\n",
       "      <td>/Seth_Everett/status/1103082651769020416</td>\n",
       "      <td>2019-03-05 23:59:33</td>\n",
       "      <td>1551830373</td>\n",
       "      <td>Thru the miracle that is #MarvelStudios in 2 d...</td>\n",
       "      <td>&lt;p class=\"TweetTextSize js-tweet-text tweet-te...</td>\n",
       "      <td>[]</td>\n",
       "      <td>...</td>\n",
       "      <td>1</td>\n",
       "      <td>True</td>\n",
       "      <td>False</td>\n",
       "      <td></td>\n",
       "      <td>[]</td>\n",
       "      <td>en</td>\n",
       "      <td>0.000</td>\n",
       "      <td>0.741</td>\n",
       "      <td>0.259</td>\n",
       "      <td>0.9118</td>\n",
       "    </tr>\n",
       "    <tr>\n",
       "      <th>3</th>\n",
       "      <td>tonyschaab</td>\n",
       "      <td>Tony Schaab</td>\n",
       "      <td>127503477</td>\n",
       "      <td>1103082600850173952</td>\n",
       "      <td>/tonyschaab/status/1103082600850173952</td>\n",
       "      <td>2019-03-05 23:59:20</td>\n",
       "      <td>1551830360</td>\n",
       "      <td>It's time, O Captain my captain! #AdvanceScree...</td>\n",
       "      <td>&lt;p class=\"TweetTextSize js-tweet-text tweet-te...</td>\n",
       "      <td>[https://www.instagram.com/p/BupVwIaHCDd/?utm_...</td>\n",
       "      <td>...</td>\n",
       "      <td>0</td>\n",
       "      <td>False</td>\n",
       "      <td>False</td>\n",
       "      <td></td>\n",
       "      <td>[]</td>\n",
       "      <td>en</td>\n",
       "      <td>0.000</td>\n",
       "      <td>0.853</td>\n",
       "      <td>0.147</td>\n",
       "      <td>0.4753</td>\n",
       "    </tr>\n",
       "    <tr>\n",
       "      <th>4</th>\n",
       "      <td>Mukund_M27</td>\n",
       "      <td>𝖬ukund🔰🎋</td>\n",
       "      <td>2841113815</td>\n",
       "      <td>1103082592721526784</td>\n",
       "      <td>/Mukund_M27/status/1103082592721526784</td>\n",
       "      <td>2019-03-05 23:59:19</td>\n",
       "      <td>1551830359</td>\n",
       "      <td>seeking the bootleg version of #CaptainMarvel ...</td>\n",
       "      <td>&lt;p class=\"TweetTextSize js-tweet-text tweet-te...</td>\n",
       "      <td>[]</td>\n",
       "      <td>...</td>\n",
       "      <td>0</td>\n",
       "      <td>False</td>\n",
       "      <td>False</td>\n",
       "      <td></td>\n",
       "      <td>[]</td>\n",
       "      <td>en</td>\n",
       "      <td>0.000</td>\n",
       "      <td>0.692</td>\n",
       "      <td>0.308</td>\n",
       "      <td>0.4588</td>\n",
       "    </tr>\n",
       "  </tbody>\n",
       "</table>\n",
       "<p>5 rows × 26 columns</p>\n",
       "</div>"
      ],
      "text/plain": [
       "    screen_name          username     user_id             tweet_id  \\\n",
       "0      spacecom  Parabolicarc.com    18928764  1103082716956831744   \n",
       "1       mrxyvvs                 💋  1482535506  1103082705468633088   \n",
       "2  Seth_Everett      Seth Everett    46727908  1103082651769020416   \n",
       "3    tonyschaab       Tony Schaab   127503477  1103082600850173952   \n",
       "4    Mukund_M27          𝖬ukund🔰🎋  2841113815  1103082592721526784   \n",
       "\n",
       "                                  tweet_url           timestamp  \\\n",
       "0      /spacecom/status/1103082716956831744 2019-03-05 23:59:48   \n",
       "1       /mrxyvvs/status/1103082705468633088 2019-03-05 23:59:45   \n",
       "2  /Seth_Everett/status/1103082651769020416 2019-03-05 23:59:33   \n",
       "3    /tonyschaab/status/1103082600850173952 2019-03-05 23:59:20   \n",
       "4    /Mukund_M27/status/1103082592721526784 2019-03-05 23:59:19   \n",
       "\n",
       "   timestamp_epochs                                               text  \\\n",
       "0        1551830388  Being so awesome, why does #CaptainMarvel neve...   \n",
       "1        1551830385                  #CaptainMarvel showing na ba?????   \n",
       "2        1551830373  Thru the miracle that is #MarvelStudios in 2 d...   \n",
       "3        1551830360  It's time, O Captain my captain! #AdvanceScree...   \n",
       "4        1551830359  seeking the bootleg version of #CaptainMarvel ...   \n",
       "\n",
       "                                           text_html  \\\n",
       "0  <p class=\"TweetTextSize js-tweet-text tweet-te...   \n",
       "1  <p class=\"TweetTextSize js-tweet-text tweet-te...   \n",
       "2  <p class=\"TweetTextSize js-tweet-text tweet-te...   \n",
       "3  <p class=\"TweetTextSize js-tweet-text tweet-te...   \n",
       "4  <p class=\"TweetTextSize js-tweet-text tweet-te...   \n",
       "\n",
       "                                               links  ... replies  is_replied  \\\n",
       "0                                                 []  ...       2        True   \n",
       "1                                                 []  ...       0       False   \n",
       "2                                                 []  ...       1        True   \n",
       "3  [https://www.instagram.com/p/BupVwIaHCDd/?utm_...  ...       0       False   \n",
       "4                                                 []  ...       0       False   \n",
       "\n",
       "  is_reply_to parent_tweet_id  reply_to_users  lang    neg    neu    pos  \\\n",
       "0       False                              []    en  0.235  0.497  0.268   \n",
       "1       False                              []    en  0.000  1.000  0.000   \n",
       "2       False                              []    en  0.000  0.741  0.259   \n",
       "3       False                              []    en  0.000  0.853  0.147   \n",
       "4       False                              []    en  0.000  0.692  0.308   \n",
       "\n",
       "  compound  \n",
       "0   0.4455  \n",
       "1   0.0000  \n",
       "2   0.9118  \n",
       "3   0.4753  \n",
       "4   0.4588  \n",
       "\n",
       "[5 rows x 26 columns]"
      ]
     },
     "execution_count": 19,
     "metadata": {},
     "output_type": "execute_result"
    }
   ],
   "source": [
    "df_before.head()"
   ]
  },
  {
   "cell_type": "code",
   "execution_count": 23,
   "metadata": {},
   "outputs": [],
   "source": [
    "import matplotlib.pyplot as plt"
   ]
  },
  {
   "cell_type": "code",
   "execution_count": 27,
   "metadata": {},
   "outputs": [
    {
     "name": "stderr",
     "output_type": "stream",
     "text": [
      "C:\\Users\\corks\\Anaconda3\\lib\\site-packages\\numpy\\lib\\histograms.py:839: RuntimeWarning: invalid value encountered in greater_equal\n",
      "  keep = (tmp_a >= first_edge)\n",
      "C:\\Users\\corks\\Anaconda3\\lib\\site-packages\\numpy\\lib\\histograms.py:840: RuntimeWarning: invalid value encountered in less_equal\n",
      "  keep &= (tmp_a <= last_edge)\n"
     ]
    },
    {
     "data": {
      "text/plain": [
       "(array([  7.,   5.,   7.,  14.,  14.,   6.,  10.,  12.,  10.,  16.,  15.,\n",
       "         10.,   8.,  17.,  22.,  15.,  18.,  25.,  10.,   4.,  16.,   3.,\n",
       "         10.,   9., 460.,   5.,   8.,  10.,  18.,  12.,  13.,  18.,  25.,\n",
       "         27.,  24.,  62.,  67.,  27.,  45.,  32.,  27.,  46.,  48.,  44.,\n",
       "         51.,  43.,  44.,  29.,  36.,  14.]),\n",
       " array([-0.9671  , -0.928008, -0.888916, -0.849824, -0.810732, -0.77164 ,\n",
       "        -0.732548, -0.693456, -0.654364, -0.615272, -0.57618 , -0.537088,\n",
       "        -0.497996, -0.458904, -0.419812, -0.38072 , -0.341628, -0.302536,\n",
       "        -0.263444, -0.224352, -0.18526 , -0.146168, -0.107076, -0.067984,\n",
       "        -0.028892,  0.0102  ,  0.049292,  0.088384,  0.127476,  0.166568,\n",
       "         0.20566 ,  0.244752,  0.283844,  0.322936,  0.362028,  0.40112 ,\n",
       "         0.440212,  0.479304,  0.518396,  0.557488,  0.59658 ,  0.635672,\n",
       "         0.674764,  0.713856,  0.752948,  0.79204 ,  0.831132,  0.870224,\n",
       "         0.909316,  0.948408,  0.9875  ]),\n",
       " <a list of 50 Patch objects>)"
      ]
     },
     "execution_count": 27,
     "metadata": {},
     "output_type": "execute_result"
    },
    {
     "data": {
      "image/png": "[encoded data removed]",
      "text/plain": [
       "<Figure size 432x288 with 1 Axes>"
      ]
     },
     "metadata": {
      "needs_background": "light"
     },
     "output_type": "display_data"
    }
   ],
   "source": [
    "plt.hist(df_before['compound'], bins=50, color='grey')\n",
    "plt.hist(df_after['compound'], bins=50, color='black')"
   ]
  },
  {
   "cell_type": "code",
   "execution_count": 29,
   "metadata": {},
   "outputs": [
    {
     "name": "stdout",
     "output_type": "stream",
     "text": [
      "The watermark extension is already loaded. To reload it, use:\n",
      "  %reload_ext watermark\n",
      "CPython 3.7.7\n",
      "IPython 5.8.0\n",
      "\n",
      "pandas 1.0.2\n",
      "twitterscraper 1.4.0\n",
      "matplotlib 3.1.3\n",
      "seaborn 0.10.0\n",
      "jupyterlab 1.2.4\n"
     ]
    }
   ],
   "source": [
    "%load_ext watermark\n",
    "%watermark -v -p pandas,twitterscraper,matplotlib,seaborn,jupyterlab"
   ]
  }
 ],
 "metadata": {
  "kernelspec": {
   "display_name": "Python 3",
   "language": "python",
   "name": "python3"
  },
  "language_info": {
   "codemirror_mode": {
    "name": "ipython",
    "version": 3
   },
   "file_extension": ".py",
   "mimetype": "text/x-python",
   "name": "python",
   "nbconvert_exporter": "python",
   "pygments_lexer": "ipython3",
   "version": "3.7.7"
  }
 },
 "nbformat": 4,
 "nbformat_minor": 4
}
